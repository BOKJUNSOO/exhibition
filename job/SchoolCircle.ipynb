{
 "cells": [
  {
   "cell_type": "code",
   "execution_count": 3,
   "metadata": {},
   "outputs": [],
   "source": [
    "import pandas as pd\n",
    "df = pd.read_csv(r\"C:\\Users\\brian\\Desktop\\JUNSOO\\exhibition\\data\\SchoolCircle.csv\" , encoding='cp949')"
   ]
  },
  {
   "cell_type": "code",
   "execution_count": 10,
   "metadata": {},
   "outputs": [
    {
     "name": "stdout",
     "output_type": "stream",
     "text": [
      "<class 'pandas.core.frame.DataFrame'>\n",
      "RangeIndex: 4609 entries, 0 to 4608\n",
      "Data columns (total 26 columns):\n",
      " #   Column                   Non-Null Count  Dtype  \n",
      "---  ------                   --------------  -----  \n",
      " 0   시도교육청                    4609 non-null   object \n",
      " 1   시도교육청코드                  4609 non-null   object \n",
      " 2   교육지원청                    4609 non-null   object \n",
      " 3   교육지원청코드                  4609 non-null   object \n",
      " 4   지역                       4609 non-null   object \n",
      " 5   지역코드                     4608 non-null   float64\n",
      " 6   소재지구분코드                  4609 non-null   int64  \n",
      " 7   정보공시 학교코드                4609 non-null   object \n",
      " 8   학교명                      4609 non-null   object \n",
      " 9   학교급코드                    4609 non-null   int64  \n",
      " 10  설립구분                     4609 non-null   object \n",
      " 11  제외여부                     4609 non-null   object \n",
      " 12  제외사유                     13 non-null     object \n",
      " 13  창의적체험활동동아리 동아리수          4596 non-null   float64\n",
      " 14  창의적체험활동동아리 참여학생수         4596 non-null   float64\n",
      " 15  창의적체험활동동아리 지도교사수         4596 non-null   float64\n",
      " 16  창의적체험활동동아리 자원봉사 또는외부강사수  4596 non-null   float64\n",
      " 17  창의적체험활동동아리 동아리활동 예산지원현황  4596 non-null   float64\n",
      " 18  학생자율동아리 동아리수             4596 non-null   float64\n",
      " 19  학생자율동아리 참여학생수            4596 non-null   float64\n",
      " 20  학생자율동아리 지도교사수            4596 non-null   float64\n",
      " 21  학생자율동아리 자원봉사 또는외부강사수     4596 non-null   float64\n",
      " 22  학생자율동아리 동아리활동 예산지원현황     4596 non-null   float64\n",
      " 23  학교과정구분값(2-3-4)           1728 non-null   float64\n",
      " 24  학교과정구분명(초-중-고)           1728 non-null   object \n",
      " 25  공시연도                     4283 non-null   float64\n",
      "dtypes: float64(13), int64(2), object(11)\n",
      "memory usage: 936.3+ KB\n"
     ]
    }
   ],
   "source": [
    "df.info()\n",
    "df['지역'] = (df['지역']\n",
    "                        .fillna('서울특별시 기타'))"
   ]
  },
  {
   "cell_type": "code",
   "execution_count": 19,
   "metadata": {},
   "outputs": [],
   "source": [
    "df_creative_circle = df[['지역' ,'창의적체험활동동아리 동아리수', '창의적체험활동동아리 참여학생수' , '창의적체험활동동아리 지도교사수'\n",
    "                        ,'창의적체험활동동아리 자원봉사 또는외부강사수', '창의적체험활동동아리 동아리활동 예산지원현황']]\n",
    "df_circle_free = df[['지역' , '학생자율동아리 동아리수' , '학생자율동아리 참여학생수']]"
   ]
  }
 ],
 "metadata": {
  "kernelspec": {
   "display_name": "Python 3",
   "language": "python",
   "name": "python3"
  },
  "language_info": {
   "codemirror_mode": {
    "name": "ipython",
    "version": 3
   },
   "file_extension": ".py",
   "mimetype": "text/x-python",
   "name": "python",
   "nbconvert_exporter": "python",
   "pygments_lexer": "ipython3",
   "version": "3.11.9"
  }
 },
 "nbformat": 4,
 "nbformat_minor": 2
}

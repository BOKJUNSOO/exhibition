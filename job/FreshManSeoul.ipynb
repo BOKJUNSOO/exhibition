{
 "cells": [
  {
   "cell_type": "code",
   "execution_count": 10,
   "metadata": {},
   "outputs": [
    {
     "name": "stdout",
     "output_type": "stream",
     "text": [
      "지역               0\n",
      "적령 아동-합계         2\n",
      "적령 아동-비율         2\n",
      "유예 및 과령 아동-합계    2\n",
      "유예 및 과령 아동-비율    2\n",
      "조기입학아동-합계        2\n",
      "조기입학아동-비율        2\n",
      "합계               2\n",
      "dtype: int64\n",
      "적령 아동-합계         105.175788\n",
      "적령 아동-비율          99.597347\n",
      "유예 및 과령 아동-합계      0.276949\n",
      "유예 및 과령 아동-비율      0.228856\n",
      "조기입학아동-합계          0.169154\n",
      "조기입학아동-비율          0.173964\n",
      "dtype: float64\n"
     ]
    }
   ],
   "source": [
    "# 학교별 입학생 현황\n",
    "import pandas as pd\n",
    "df = pd.read_csv(r\"C:\\Users\\brian\\Desktop\\JUNSOO\\exhibition\\data\\FreshMan.csv\" , encoding='cp949')\n",
    "#df.info() #초중고별 제공하는 데이터가 다름\n",
    "\n",
    "#df_1 = 초등학교\n",
    "#df_2 = 중학교\n",
    "#df_3 = 고등학교\n",
    "df_1 = df[['지역'\n",
    "        , '적령 아동-합계' ,'적령 아동-비율'\n",
    "        ,'유예 및 과령 아동-합계', '유예 및 과령 아동-비율'\n",
    "        ,'조기입학아동-합계', '조기입학아동-비율'\n",
    "        ,'합계']]\n",
    "df_elem = df_1.iloc[0:605,:]\n",
    "\n",
    "#605 ~ 993 중학교\n",
    "df_2 = df[['지역'\n",
    "           ,'당해연도 졸업자-합계' , '당해연도 졸업자-비율'\n",
    "           ,'이전연도 졸업자-합계' , '이전연도 졸업자-비율'\n",
    "           ,'검정고시 및 교육과정 이수자-합계','검정고시 및 교육과정 이수자-비율'\n",
    "           , '합계(2020년 이전 : A+B)']]\n",
    "df_middle = df_2.iloc[605:994,:]\n",
    "\n",
    "#994~ 1318 고등학교 (중학교와 기록된 데이터의 columns 동일함)\n",
    "df_high = df_2.iloc[994:1319,:]\n",
    "\n",
    "print(df_elem\n",
    "      .isnull()\n",
    "      .sum()) #603, #604 row\n",
    "\n",
    "print(df_elem[['적령 아동-합계', '적령 아동-비율','유예 및 과령 아동-합계'\n",
    "        ,'유예 및 과령 아동-비율', '조기입학아동-합계'\n",
    "        ,'조기입학아동-비율']]\n",
    "        .mean())\n"
   ]
  },
  {
   "cell_type": "code",
   "execution_count": 11,
   "metadata": {},
   "outputs": [
    {
     "name": "stderr",
     "output_type": "stream",
     "text": [
      "C:\\Users\\brian\\AppData\\Local\\Temp\\ipykernel_4488\\3490012973.py:1: SettingWithCopyWarning: \n",
      "A value is trying to be set on a copy of a slice from a DataFrame.\n",
      "Try using .loc[row_indexer,col_indexer] = value instead\n",
      "\n",
      "See the caveats in the documentation: https://pandas.pydata.org/pandas-docs/stable/user_guide/indexing.html#returning-a-view-versus-a-copy\n",
      "  df_elem['적령 아동-합계'] = df_elem['적령 아동-합계'].fillna(105.17578772802653)\n",
      "C:\\Users\\brian\\AppData\\Local\\Temp\\ipykernel_4488\\3490012973.py:2: SettingWithCopyWarning: \n",
      "A value is trying to be set on a copy of a slice from a DataFrame.\n",
      "Try using .loc[row_indexer,col_indexer] = value instead\n",
      "\n",
      "See the caveats in the documentation: https://pandas.pydata.org/pandas-docs/stable/user_guide/indexing.html#returning-a-view-versus-a-copy\n",
      "  df_elem['적령 아동-비율'] = df_elem['적령 아동-비율'].fillna(99.597347)\n",
      "C:\\Users\\brian\\AppData\\Local\\Temp\\ipykernel_4488\\3490012973.py:3: SettingWithCopyWarning: \n",
      "A value is trying to be set on a copy of a slice from a DataFrame.\n",
      "Try using .loc[row_indexer,col_indexer] = value instead\n",
      "\n",
      "See the caveats in the documentation: https://pandas.pydata.org/pandas-docs/stable/user_guide/indexing.html#returning-a-view-versus-a-copy\n",
      "  df_elem['유예 및 과령 아동-합계'] = df_elem['유예 및 과령 아동-합계'].fillna(0.276949)\n",
      "C:\\Users\\brian\\AppData\\Local\\Temp\\ipykernel_4488\\3490012973.py:4: SettingWithCopyWarning: \n",
      "A value is trying to be set on a copy of a slice from a DataFrame.\n",
      "Try using .loc[row_indexer,col_indexer] = value instead\n",
      "\n",
      "See the caveats in the documentation: https://pandas.pydata.org/pandas-docs/stable/user_guide/indexing.html#returning-a-view-versus-a-copy\n",
      "  df_elem['유예 및 과령 아동-비율'] = df_elem['유예 및 과령 아동-비율'].fillna(0.228856)\n",
      "C:\\Users\\brian\\AppData\\Local\\Temp\\ipykernel_4488\\3490012973.py:5: SettingWithCopyWarning: \n",
      "A value is trying to be set on a copy of a slice from a DataFrame.\n",
      "Try using .loc[row_indexer,col_indexer] = value instead\n",
      "\n",
      "See the caveats in the documentation: https://pandas.pydata.org/pandas-docs/stable/user_guide/indexing.html#returning-a-view-versus-a-copy\n",
      "  df_elem['조기입학아동-합계'] = df_elem['조기입학아동-합계'].fillna(0.169154)\n",
      "C:\\Users\\brian\\AppData\\Local\\Temp\\ipykernel_4488\\3490012973.py:6: SettingWithCopyWarning: \n",
      "A value is trying to be set on a copy of a slice from a DataFrame.\n",
      "Try using .loc[row_indexer,col_indexer] = value instead\n",
      "\n",
      "See the caveats in the documentation: https://pandas.pydata.org/pandas-docs/stable/user_guide/indexing.html#returning-a-view-versus-a-copy\n",
      "  df_elem['조기입학아동-비율'] = df_elem['조기입학아동-비율'].fillna(0.173964)\n"
     ]
    }
   ],
   "source": [
    "df_elem['적령 아동-합계'] = df_elem['적령 아동-합계'].fillna(105.17578772802653)\n",
    "df_elem['적령 아동-비율'] = df_elem['적령 아동-비율'].fillna(99.597347)\n",
    "df_elem['유예 및 과령 아동-합계'] = df_elem['유예 및 과령 아동-합계'].fillna(0.276949)\n",
    "df_elem['유예 및 과령 아동-비율'] = df_elem['유예 및 과령 아동-비율'].fillna(0.228856)\n",
    "df_elem['조기입학아동-합계'] = df_elem['조기입학아동-합계'].fillna(0.169154)\n",
    "df_elem['조기입학아동-비율'] = df_elem['조기입학아동-비율'].fillna(0.173964)"
   ]
  },
  {
   "cell_type": "code",
   "execution_count": 12,
   "metadata": {},
   "outputs": [
    {
     "name": "stdout",
     "output_type": "stream",
     "text": [
      "지역               0\n",
      "적령 아동-합계         0\n",
      "적령 아동-비율         0\n",
      "유예 및 과령 아동-합계    0\n",
      "유예 및 과령 아동-비율    0\n",
      "조기입학아동-합계        0\n",
      "조기입학아동-비율        0\n",
      "합계               2\n",
      "dtype: int64\n"
     ]
    }
   ],
   "source": [
    "print(df_elem\n",
    "      .isnull()\n",
    "      .sum())"
   ]
  },
  {
   "cell_type": "code",
   "execution_count": null,
   "metadata": {},
   "outputs": [],
   "source": []
  }
 ],
 "metadata": {
  "kernelspec": {
   "display_name": "Python 3",
   "language": "python",
   "name": "python3"
  },
  "language_info": {
   "codemirror_mode": {
    "name": "ipython",
    "version": 3
   },
   "file_extension": ".py",
   "mimetype": "text/x-python",
   "name": "python",
   "nbconvert_exporter": "python",
   "pygments_lexer": "ipython3",
   "version": "3.11.9"
  }
 },
 "nbformat": 4,
 "nbformat_minor": 2
}

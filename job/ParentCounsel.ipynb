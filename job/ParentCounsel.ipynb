{
 "cells": [
  {
   "cell_type": "code",
   "execution_count": 2,
   "metadata": {},
   "outputs": [],
   "source": [
    "import pandas as pd\n",
    "df = pd.read_csv(r\"C:\\Users\\brian\\Desktop\\JUNSOO\\exhibition\\data\\StudentParent_counsel.csv\" , encoding='cp949')"
   ]
  },
  {
   "cell_type": "code",
   "execution_count": 4,
   "metadata": {},
   "outputs": [
    {
     "name": "stdout",
     "output_type": "stream",
     "text": [
      "<class 'pandas.core.frame.DataFrame'>\n",
      "RangeIndex: 6721 entries, 0 to 6720\n",
      "Data columns (total 20 columns):\n",
      " #   Column             Non-Null Count  Dtype  \n",
      "---  ------             --------------  -----  \n",
      " 0   시도교육청              6721 non-null   object \n",
      " 1   시도교육청코드            6721 non-null   object \n",
      " 2   교육지원청              6721 non-null   object \n",
      " 3   교육지원청코드            6721 non-null   object \n",
      " 4   지역                 6720 non-null   object \n",
      " 5   지역코드               6720 non-null   float64\n",
      " 6   소재지구분코드            6721 non-null   int64  \n",
      " 7   정보공시 학교코드          6721 non-null   object \n",
      " 8   학교명                6721 non-null   object \n",
      " 9   학교급코드              6721 non-null   int64  \n",
      " 10  설립구분               6721 non-null   object \n",
      " 11  제외여부               6721 non-null   object \n",
      " 12  제외사유               10 non-null     object \n",
      " 13  상담실적(내부상담전문가)      6711 non-null   float64\n",
      " 14  상담실적(내부상담전문가실시여부)  6711 non-null   object \n",
      " 15  상담실적(외부상담전문가)      6711 non-null   float64\n",
      " 16  상담실적(외부상담전문가실시여부)  6711 non-null   object \n",
      " 17  학교과정구분값(2-3-4)     2521 non-null   object \n",
      " 18  학교과정구분명(초-중-고)     2521 non-null   object \n",
      " 19  공시연도               6721 non-null   int64  \n",
      "dtypes: float64(3), int64(3), object(14)\n",
      "memory usage: 1.0+ MB\n"
     ]
    }
   ],
   "source": [
    "df.info()\n",
    "df['지역'] = (df['지역']\n",
    "            .fillna('서울특별시 기타'))"
   ]
  },
  {
   "cell_type": "code",
   "execution_count": 5,
   "metadata": {},
   "outputs": [],
   "source": [
    "df_Counsel_in = df['상담실적(내부상담전문가)']\n",
    "df_Counsel_out = df['상담실적(외부상담전문가)']"
   ]
  },
  {
   "cell_type": "code",
   "execution_count": null,
   "metadata": {},
   "outputs": [],
   "source": []
  }
 ],
 "metadata": {
  "kernelspec": {
   "display_name": "Python 3",
   "language": "python",
   "name": "python3"
  },
  "language_info": {
   "codemirror_mode": {
    "name": "ipython",
    "version": 3
   },
   "file_extension": ".py",
   "mimetype": "text/x-python",
   "name": "python",
   "nbconvert_exporter": "python",
   "pygments_lexer": "ipython3",
   "version": "3.11.9"
  }
 },
 "nbformat": 4,
 "nbformat_minor": 2
}

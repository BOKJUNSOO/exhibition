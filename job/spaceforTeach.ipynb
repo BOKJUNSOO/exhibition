{
 "cells": [
  {
   "cell_type": "code",
   "execution_count": 1,
   "metadata": {},
   "outputs": [],
   "source": [
    "import pandas as pd\n",
    "df = pd.read_csv(r\"C:\\Users\\brian\\Desktop\\JUNSOO\\exhibition\\data\\SchoolTeacher.csv\" , encoding='cp949')"
   ]
  },
  {
   "cell_type": "code",
   "execution_count": 13,
   "metadata": {},
   "outputs": [
    {
     "name": "stdout",
     "output_type": "stream",
     "text": [
      "<class 'pandas.core.frame.DataFrame'>\n",
      "RangeIndex: 5475 entries, 0 to 5474\n",
      "Data columns (total 37 columns):\n",
      " #   Column          Non-Null Count  Dtype  \n",
      "---  ------          --------------  -----  \n",
      " 0   시도교육청           5475 non-null   object \n",
      " 1   시도교육청코드         5475 non-null   object \n",
      " 2   교육지원청           5475 non-null   object \n",
      " 3   교육지원청코드         5475 non-null   object \n",
      " 4   지역              5475 non-null   object \n",
      " 5   지역코드            5474 non-null   float64\n",
      " 6   소재지구분코드         5475 non-null   int64  \n",
      " 7   정보공시 학교코드       5475 non-null   object \n",
      " 8   학교명             5475 non-null   object \n",
      " 9   학교급코드           5475 non-null   int64  \n",
      " 10  설립구분            5475 non-null   object \n",
      " 11  제외여부            5475 non-null   object \n",
      " 12  제외사유            53 non-null     object \n",
      " 13  교수학습공간 일반교실     5475 non-null   float64\n",
      " 14  교수학습공간 교과교실     5475 non-null   float64\n",
      " 15  교수학습공간 특별교실     5475 non-null   float64\n",
      " 16  교수학습공간 수준별교실    5475 non-null   float64\n",
      " 17  교수학습공간 기타       3283 non-null   float64\n",
      " 18  학습지원공간 시청각실     2858 non-null   float64\n",
      " 19  학습지원공간 컴퓨터실     1415 non-null   float64\n",
      " 20  학습지원공간 멀티미디어실   3736 non-null   float64\n",
      " 21  학습지원공간 가타       1222 non-null   float64\n",
      " 22  교원지원공간          5245 non-null   float64\n",
      " 23  관리행정공간          5408 non-null   float64\n",
      " 24  체육집회공간          4794 non-null   float64\n",
      " 25  보건실             5305 non-null   float64\n",
      " 26  학생탈의실           2190 non-null   float64\n",
      " 27  학생샤워실           0 non-null      float64\n",
      " 28  남자화장실           5275 non-null   float64\n",
      " 29  여자화장실           5264 non-null   float64\n",
      " 30  공용화장실           1746 non-null   float64\n",
      " 31  학생식당            4036 non-null   float64\n",
      " 32  기숙사실수           390 non-null    float64\n",
      " 33  기타공간            3772 non-null   float64\n",
      " 34  학교과정구분값(2-3-4)  2104 non-null   object \n",
      " 35  학교과정구분명(초-중-고)  2104 non-null   object \n",
      " 36  공시연도            5475 non-null   int64  \n",
      "dtypes: float64(22), int64(3), object(12)\n",
      "memory usage: 1.5+ MB\n"
     ]
    }
   ],
   "source": [
    "df['지역'] = df['지역'].fillna('서울특별시 기타')\n",
    "df.info()\n"
   ]
  },
  {
   "cell_type": "code",
   "execution_count": 12,
   "metadata": {},
   "outputs": [],
   "source": [
    "df_general = df['교수학습공간 일반교실']\n",
    "(df_general\n",
    "      .fillna(0 , inplace = True) # 없는 교실\n",
    "      )\n",
    "\n",
    "df_subject = df['교수학습공간 교과교실']\n",
    "(df_subject\n",
    "        .fillna(0 , inplace = True) # 없는 교실\n",
    "        )\n",
    "\n",
    "df_special = df['교수학습공간 특별교실']\n",
    "(df_special\n",
    "        .fillna(0 , inplace = True)) #없는 교실\n",
    "\n",
    "df_level = df['교수학습공간 수준별교실']\n",
    "(df_level\n",
    "        .fillna(0 , inplace = True)) #없는 교실"
   ]
  },
  {
   "cell_type": "code",
   "execution_count": null,
   "metadata": {},
   "outputs": [],
   "source": []
  }
 ],
 "metadata": {
  "kernelspec": {
   "display_name": "Python 3",
   "language": "python",
   "name": "python3"
  },
  "language_info": {
   "codemirror_mode": {
    "name": "ipython",
    "version": 3
   },
   "file_extension": ".py",
   "mimetype": "text/x-python",
   "name": "python",
   "nbconvert_exporter": "python",
   "pygments_lexer": "ipython3",
   "version": "3.11.9"
  }
 },
 "nbformat": 4,
 "nbformat_minor": 2
}

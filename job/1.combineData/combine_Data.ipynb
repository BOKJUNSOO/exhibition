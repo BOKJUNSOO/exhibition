{
 "cells": [
  {
   "cell_type": "code",
   "execution_count": 1,
   "metadata": {},
   "outputs": [],
   "source": [
    "import pandas as pd\n",
    "df1_f = pd.read_csv(r'C:\\Users\\brian\\Desktop\\JUNSOO\\exhibition\\data\\FreshMan.csv' , encoding = 'cp949')\n",
    "df2_p = pd.read_csv(r'C:\\Users\\brian\\Desktop\\JUNSOO\\exhibition\\data\\StudentParent_counsel.csv' , encoding = 'cp949')\n",
    "df3_c = pd.read_csv(r'C:\\Users\\brian\\Desktop\\JUNSOO\\exhibition\\data\\SchoolCircle.csv' , encoding = 'cp949')\n",
    "df4_t = pd.read_csv(r'C:\\Users\\brian\\Desktop\\JUNSOO\\exhibition\\data\\SchoolTeacher.csv' , encoding = 'cp949')"
   ]
  },
  {
   "cell_type": "code",
   "execution_count": 2,
   "metadata": {},
   "outputs": [],
   "source": [
    "## 결측치 처리\n",
    "df1_f['공시연도'].dropna(inplace = True)\n",
    "df2_p['공시연도'].dropna(inplace = True)\n",
    "df3_c['공시연도'].dropna(inplace = True)\n",
    "df4_t['공시연도'].dropna(inplace = True)\n",
    "\n",
    "## 유효 칼럼 작성\n",
    "\n",
    "# 학교별 진학\n",
    "df_f_col = ['지역'\n",
    "             ,'적령 아동-합계'\n",
    "             ,'당해연도 졸업자-합계' \n",
    "             ,'검정고시 및 교육과정 이수자-합계'\n",
    "             ,'공시연도'\n",
    "             ,'정보공시 학교코드']\n",
    "\n",
    "# 학교별 학부모 상담 건수\n",
    "col_p = [ '상담실적(내부상담전문가)'\n",
    "          ,'상담실적(외부상담전문가)'\n",
    "          ,'공시연도'\n",
    "          ,'정보공시 학교코드']\n",
    "\n",
    "# 학교별 동아리 활동\n",
    "col_c = ['창의적체험활동동아리 동아리수'\n",
    "         ,'창의적체험활동동아리 동아리활동 예산지원현황'\n",
    "         ,'공시연도'\n",
    "         ,'정보공시 학교코드']\n",
    "\n",
    "# 학교별 교수학습공간\n",
    "col_t = ['교수학습공간 일반교실'\n",
    "         ,'교수학습공간 교과교실'\n",
    "         ,'교수학습공간 교과교실'\n",
    "         ,'교수학습공간 특별교실'\n",
    "         ,'공시연도'\n",
    "         ,'정보공시 학교코드']\n",
    "\n",
    "\n",
    "## 데이터프레임 작성\n",
    "\n",
    "# 학교별 학부모 상담건수\n",
    "counsel = df2_p[col_p]\n",
    "\n",
    "# 학교별 동아리 활동\n",
    "# float ==> int 해결!!****\n",
    "\n",
    "df3_c['공시연도'] = pd.to_numeric(df3_c['공시연도'] , errors = 'coerce')\n",
    "df3_c = df3_c.dropna(subset = ['공시연도'])\n",
    "df3_c['공시연도'] = df3_c['공시연도'].astype(int)\n",
    "\n",
    "circle = df3_c[col_c]\n",
    "\n",
    "# 학교별 교수학습공간\n",
    "studyroom = df4_t[col_t]\n"
   ]
  },
  {
   "cell_type": "code",
   "execution_count": 5,
   "metadata": {},
   "outputs": [],
   "source": [
    "## key 값 생성\n",
    "\n",
    "# 학교별 학부모 상담 건수\n",
    "counsel = counsel.astype({'공시연도':'str'})\n",
    "counsel['key'] = counsel['정보공시 학교코드'] + \"-\" + counsel['공시연도']\n",
    "\n",
    "# 학교별 동아리 활동\n",
    "circle = circle.astype({'공시연도':'str'})\n",
    "circle['key'] = circle['정보공시 학교코드'] + \"-\" + circle['공시연도']\n",
    "\n",
    "# 학교별 교수학습 공간\n",
    "studyroom = studyroom.astype({'공시연도':'str'})\n",
    "studyroom['key'] = studyroom['정보공시 학교코드'] + \"-\" + studyroom['공시연도']\n"
   ]
  },
  {
   "cell_type": "code",
   "execution_count": 7,
   "metadata": {},
   "outputs": [],
   "source": [
    "## key 값으로 인덱스 재 설정하기\n",
    "\n",
    "\n",
    "(counsel\n",
    " .set_index(keys = 'key'\n",
    "            ,inplace = True)\n",
    "            )\n",
    "(circle\n",
    " .set_index(keys = 'key'\n",
    "            ,inplace = True))\n",
    "\n",
    "(studyroom\n",
    " .set_index(keys = 'key'\n",
    "            ,inplace = True))\n",
    "\n",
    "\n"
   ]
  },
  {
   "cell_type": "code",
   "execution_count": 8,
   "metadata": {},
   "outputs": [],
   "source": [
    "## 필요없는 칼럼 지우기\n",
    "\n",
    "(counsel.drop(columns = '공시연도' , inplace = True))\n",
    "(counsel.drop(columns = '정보공시 학교코드' , inplace = True))\n",
    "\n",
    "(circle.drop(columns = '공시연도' , inplace = True))\n",
    "(circle.drop(columns = '정보공시 학교코드' , inplace = True))\n",
    "\n",
    "(studyroom.drop(columns = '공시연도' , inplace = True))\n",
    "(studyroom.drop(columns = '정보공시 학교코드' , inplace = True))\n",
    "\n"
   ]
  },
  {
   "cell_type": "code",
   "execution_count": 9,
   "metadata": {},
   "outputs": [],
   "source": [
    "final1 = pd.merge(counsel , studyroom, how = \"outer\" , on = 'key')\n",
    "final2 = pd.merge(final2, circle, how = \"outer\", on = 'key')\n",
    "final =  final2.drop_duplicates()\n"
   ]
  },
  {
   "cell_type": "code",
   "execution_count": 11,
   "metadata": {},
   "outputs": [],
   "source": [
    "final.to_csv(r'C:\\Users\\brian\\Desktop\\JUNSOO\\exhibition\\data\\dataset.csv' , encoding = \"euc-kr\")"
   ]
  },
  {
   "cell_type": "code",
   "execution_count": null,
   "metadata": {},
   "outputs": [],
   "source": []
  }
 ],
 "metadata": {
  "kernelspec": {
   "display_name": "Python 3",
   "language": "python",
   "name": "python3"
  },
  "language_info": {
   "codemirror_mode": {
    "name": "ipython",
    "version": 3
   },
   "file_extension": ".py",
   "mimetype": "text/x-python",
   "name": "python",
   "nbconvert_exporter": "python",
   "pygments_lexer": "ipython3",
   "version": "3.11.9"
  }
 },
 "nbformat": 4,
 "nbformat_minor": 2
}
